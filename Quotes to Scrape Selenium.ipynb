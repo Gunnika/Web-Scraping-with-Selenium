{
 "cells": [
  {
   "cell_type": "markdown",
   "metadata": {},
   "source": [
    "##  Extracting Data from Quotes to Scrape (http://quotes.toscrape.com/js/page/1/)"
   ]
  },
  {
   "cell_type": "code",
   "execution_count": 1,
   "metadata": {},
   "outputs": [],
   "source": [
    "from selenium.webdriver import Chrome\n",
    "import pandas as pd"
   ]
  },
  {
   "cell_type": "code",
   "execution_count": 2,
   "metadata": {},
   "outputs": [],
   "source": [
    "webdriver = \"/home/gunnika/Downloads/chromedriver_linux64/chromedriver\""
   ]
  },
  {
   "cell_type": "code",
   "execution_count": 3,
   "metadata": {},
   "outputs": [],
   "source": [
    "# make an instance of chrome \n",
    "driver = Chrome(webdriver)"
   ]
  },
  {
   "cell_type": "code",
   "execution_count": 4,
   "metadata": {},
   "outputs": [],
   "source": [
    "# Main Script\n",
    "pages = 10\n",
    "\n",
    "for page in range(1,pages):\n",
    "    \n",
    "    # Pagination URL:\n",
    "    # Http://quotes.toscrape.com/js/page/{{current_page_number}}/\n",
    "\n",
    "    url = \"http://quotes.toscrape.com/js/page/\" + str(page) + \"/\"\n",
    "\n",
    "#     makes an HTTP get request to our desired webpage\n",
    "    driver.get(url)\n",
    "    \n",
    "#     On inspecting each quote element, \n",
    "# we observe that each quote is enclosed within a div with the class name of quote. \n",
    "# o get the exact number of quotes within that page:\n",
    "\n",
    "    items = len(driver.find_elements_by_class_name(\"quote\"))\n",
    "\n",
    "    total = []\n",
    "    for item in range(items):\n",
    "        quotes = driver.find_elements_by_class_name(\"quote\")\n",
    "        \n",
    "#       iterate over each quote and extract a specific record.\n",
    "        for quote in quotes:\n",
    "            quote_text = quote.find_element_by_class_name('text').text\n",
    "            author = quote.find_element_by_class_name('author').text\n",
    "            \n",
    "#           Finally, we store the quote_text and author names variables in a tuple \n",
    "#           which we proceed to append to the python list by the name total.\n",
    "            new = ((quote_text,author))\n",
    "            total.append(new)\n",
    "#  initiate a dataframe to store all records and specify the column names as quote and author.\n",
    "    df = pd.DataFrame(total,columns=['quote','author'])\n",
    "    \n",
    "#     export the dataframe to a CSV file\n",
    "    df.to_csv('quoted.csv')\n",
    "driver.close()"
   ]
  }
 ],
 "metadata": {
  "kernelspec": {
   "display_name": "Python 3",
   "language": "python",
   "name": "python3"
  },
  "language_info": {
   "codemirror_mode": {
    "name": "ipython",
    "version": 3
   },
   "file_extension": ".py",
   "mimetype": "text/x-python",
   "name": "python",
   "nbconvert_exporter": "python",
   "pygments_lexer": "ipython3",
   "version": "3.7.3"
  }
 },
 "nbformat": 4,
 "nbformat_minor": 2
}
